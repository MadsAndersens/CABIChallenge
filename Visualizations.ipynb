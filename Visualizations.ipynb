{
 "cells": [
  {
   "cell_type": "markdown",
   "id": "50786225-5a9d-491e-8178-57941074f5ad",
   "metadata": {},
   "source": [
    "### Visualizations for tasks"
   ]
  },
  {
   "cell_type": "code",
   "execution_count": 2,
   "id": "01e51c89-268d-4a02-b916-cd73e2120ce7",
   "metadata": {},
   "outputs": [],
   "source": [
    "import pandas as pd\n",
    "import numpy as np\n",
    "import matplotlib.pyplot as plt\n",
    "import seaborn as sns"
   ]
  },
  {
   "cell_type": "code",
   "execution_count": 3,
   "id": "b970348a-4076-4d56-af37-dbfbb5c03eac",
   "metadata": {},
   "outputs": [],
   "source": [
    "base_dir = \"/Users/madsandersen/Desktop/bi-challenge/CABIChallenge/VisualizationCSVs\""
   ]
  },
  {
   "cell_type": "markdown",
   "id": "a97ad675-cedf-4879-81c7-1423214b536b",
   "metadata": {},
   "source": [
    "### Question 1"
   ]
  },
  {
   "cell_type": "code",
   "execution_count": 10,
   "id": "d003b41b-1c4a-4edb-a987-56296c404c3c",
   "metadata": {},
   "outputs": [],
   "source": [
    "file_name = \"Question1_sub1_Vizual.csv\"\n",
    "df = pd.read_csv(f\"{base_dir}/{file_name}\")\n",
    "df['time_to_close'] = pd.to_timedelta(df['time_to_close'])/pd.Timedelta(days=1)"
   ]
  },
  {
   "cell_type": "code",
   "execution_count": 11,
   "id": "fd863079-e708-4b8a-b1ec-830c47038cda",
   "metadata": {},
   "outputs": [
    {
     "data": {
      "text/html": [
       "<div>\n",
       "<style scoped>\n",
       "    .dataframe tbody tr th:only-of-type {\n",
       "        vertical-align: middle;\n",
       "    }\n",
       "\n",
       "    .dataframe tbody tr th {\n",
       "        vertical-align: top;\n",
       "    }\n",
       "\n",
       "    .dataframe thead th {\n",
       "        text-align: right;\n",
       "    }\n",
       "</style>\n",
       "<table border=\"1\" class=\"dataframe\">\n",
       "  <thead>\n",
       "    <tr style=\"text-align: right;\">\n",
       "      <th></th>\n",
       "      <th>case_id</th>\n",
       "      <th>time_to_close</th>\n",
       "    </tr>\n",
       "  </thead>\n",
       "  <tbody>\n",
       "    <tr>\n",
       "      <th>0</th>\n",
       "      <td>1002</td>\n",
       "      <td>4.598555</td>\n",
       "    </tr>\n",
       "    <tr>\n",
       "      <th>1</th>\n",
       "      <td>1006</td>\n",
       "      <td>14.453327</td>\n",
       "    </tr>\n",
       "    <tr>\n",
       "      <th>2</th>\n",
       "      <td>1008</td>\n",
       "      <td>63.420537</td>\n",
       "    </tr>\n",
       "    <tr>\n",
       "      <th>3</th>\n",
       "      <td>1012</td>\n",
       "      <td>60.888494</td>\n",
       "    </tr>\n",
       "    <tr>\n",
       "      <th>4</th>\n",
       "      <td>1016</td>\n",
       "      <td>70.400972</td>\n",
       "    </tr>\n",
       "  </tbody>\n",
       "</table>\n",
       "</div>"
      ],
      "text/plain": [
       "   case_id  time_to_close\n",
       "0     1002       4.598555\n",
       "1     1006      14.453327\n",
       "2     1008      63.420537\n",
       "3     1012      60.888494\n",
       "4     1016      70.400972"
      ]
     },
     "execution_count": 11,
     "metadata": {},
     "output_type": "execute_result"
    }
   ],
   "source": [
    "df.head()"
   ]
  },
  {
   "cell_type": "code",
   "execution_count": 20,
   "id": "e263e291-1ff3-4182-80c9-a2bc355a73e3",
   "metadata": {},
   "outputs": [
    {
     "data": {
      "image/png": "[encoded data removed]",
      "text/plain": [
       "<Figure size 1000x500 with 1 Axes>"
      ]
     },
     "metadata": {},
     "output_type": "display_data"
    },
    {
     "data": {
      "text/plain": [
       "<Figure size 640x480 with 0 Axes>"
      ]
     },
     "metadata": {},
     "output_type": "display_data"
    }
   ],
   "source": [
    "fig, ax = plt.subplots(figsize=(10, 5))\n",
    "\n",
    "sns.boxplot(\n",
    "    x='time_to_close',\n",
    "    data=df,\n",
    "    color='darkblue',\n",
    "    ax=ax,\n",
    "    orient='h',\n",
    "    fill = False\n",
    ")\n",
    "\n",
    "# Add labels and title\n",
    "ax.set_xlabel(\"Time to Close (days)\", fontsize=12)\n",
    "ax.set_title(\"Distribution of Time to Close\", fontsize=14)\n",
    "ax.grid(True, linestyle='--', alpha=0.5)\n",
    "\n",
    "plt.tight_layout()\n",
    "plt.show()\n",
    "\n",
    "plt.savefig(\"CloseTimeDist.png\")\n"
   ]
  },
  {
   "cell_type": "markdown",
   "id": "1a9a2078-a010-4856-b074-de34fc0ae11e",
   "metadata": {},
   "source": [
    "### Sub Question 2"
   ]
  },
  {
   "cell_type": "code",
   "execution_count": 22,
   "id": "1309f795-0b9e-4f99-a212-5f1baea635f4",
   "metadata": {},
   "outputs": [],
   "source": [
    "file_name = \"Question1_sub2_vizual.csv\"\n",
    "df = pd.read_csv(f\"{base_dir}/{file_name}\")"
   ]
  },
  {
   "cell_type": "code",
   "execution_count": 23,
   "id": "24a92463-fc82-4bba-beca-ebe2367dd34a",
   "metadata": {},
   "outputs": [
    {
     "data": {
      "text/html": [
       "<div>\n",
       "<style scoped>\n",
       "    .dataframe tbody tr th:only-of-type {\n",
       "        vertical-align: middle;\n",
       "    }\n",
       "\n",
       "    .dataframe tbody tr th {\n",
       "        vertical-align: top;\n",
       "    }\n",
       "\n",
       "    .dataframe thead th {\n",
       "        text-align: right;\n",
       "    }\n",
       "</style>\n",
       "<table border=\"1\" class=\"dataframe\">\n",
       "  <thead>\n",
       "    <tr style=\"text-align: right;\">\n",
       "      <th></th>\n",
       "      <th>market</th>\n",
       "      <th>max</th>\n",
       "    </tr>\n",
       "  </thead>\n",
       "  <tbody>\n",
       "    <tr>\n",
       "      <th>0</th>\n",
       "      <td>Belgium</td>\n",
       "      <td>4200</td>\n",
       "    </tr>\n",
       "    <tr>\n",
       "      <th>1</th>\n",
       "      <td>France</td>\n",
       "      <td>3400</td>\n",
       "    </tr>\n",
       "    <tr>\n",
       "      <th>2</th>\n",
       "      <td>Germany</td>\n",
       "      <td>2900</td>\n",
       "    </tr>\n",
       "    <tr>\n",
       "      <th>3</th>\n",
       "      <td>Italy</td>\n",
       "      <td>2600</td>\n",
       "    </tr>\n",
       "    <tr>\n",
       "      <th>4</th>\n",
       "      <td>Netherlands</td>\n",
       "      <td>3600</td>\n",
       "    </tr>\n",
       "  </tbody>\n",
       "</table>\n",
       "</div>"
      ],
      "text/plain": [
       "        market   max\n",
       "0      Belgium  4200\n",
       "1       France  3400\n",
       "2      Germany  2900\n",
       "3        Italy  2600\n",
       "4  Netherlands  3600"
      ]
     },
     "execution_count": 23,
     "metadata": {},
     "output_type": "execute_result"
    }
   ],
   "source": [
    "df.head()"
   ]
  },
  {
   "cell_type": "code",
   "execution_count": 28,
   "id": "2641a872-7672-4397-ac6d-6496127ed801",
   "metadata": {},
   "outputs": [
    {
     "data": {
      "text/plain": [
       "Text(0.5, 1.0, 'Max Value per Country')"
      ]
     },
     "execution_count": 28,
     "metadata": {},
     "output_type": "execute_result"
    },
    {
     "data": {
      "image/png": "[encoded data removed]",
      "text/plain": [
       "<Figure size 1000x500 with 1 Axes>"
      ]
     },
     "metadata": {},
     "output_type": "display_data"
    }
   ],
   "source": [
    "fig, ax = plt.subplots(1,figsize = (10,5))\n",
    "\n",
    "df = df.sort_values(by = 'max', ascending = False)\n",
    "sns.barplot(df, \n",
    "            x = 'market',\n",
    "            y = 'max',\n",
    "            color = 'darkblue'\n",
    "           )\n",
    "\n",
    "plt.title(\"Max Value per Country\")\n",
    "plt.savefig(\"CloseTimeDist.png\")"
   ]
  },
  {
   "cell_type": "code",
   "execution_count": null,
   "id": "97aa94e9-3db3-4049-9393-2370b4815fa6",
   "metadata": {},
   "outputs": [],
   "source": []
  },
  {
   "cell_type": "code",
   "execution_count": null,
   "id": "65c33133-9a30-4155-a373-2260d8e2bb27",
   "metadata": {},
   "outputs": [],
   "source": []
  },
  {
   "cell_type": "code",
   "execution_count": null,
   "id": "1808f6c5-cc15-465a-ac9f-4432c8fe87ff",
   "metadata": {},
   "outputs": [],
   "source": []
  },
  {
   "cell_type": "code",
   "execution_count": null,
   "id": "3ba94d62-90b4-4ba3-aa31-6f688aa136d8",
   "metadata": {},
   "outputs": [],
   "source": []
  },
  {
   "cell_type": "code",
   "execution_count": null,
   "id": "1485c47c-e64d-4cb7-93ba-1fac263529b2",
   "metadata": {},
   "outputs": [],
   "source": []
  },
  {
   "cell_type": "code",
   "execution_count": null,
   "id": "643bb0c4-bbb5-4a91-9ed9-840e7c1db8d3",
   "metadata": {},
   "outputs": [],
   "source": []
  },
  {
   "cell_type": "code",
   "execution_count": null,
   "id": "f5688588-6264-4e16-8530-d41e96a17ff9",
   "metadata": {},
   "outputs": [],
   "source": []
  },
  {
   "cell_type": "code",
   "execution_count": null,
   "id": "62a4ab04-13bd-449b-ab8f-3aee290bde3b",
   "metadata": {},
   "outputs": [],
   "source": []
  },
  {
   "cell_type": "code",
   "execution_count": null,
   "id": "c501faed-0db3-4d47-9983-e24bfd646361",
   "metadata": {},
   "outputs": [],
   "source": []
  },
  {
   "cell_type": "code",
   "execution_count": null,
   "id": "97061810-2fa5-4892-98b8-f1e233adf1ed",
   "metadata": {},
   "outputs": [],
   "source": []
  },
  {
   "cell_type": "code",
   "execution_count": null,
   "id": "f679d7fb-570a-4fb7-a8b6-13689ac33db0",
   "metadata": {},
   "outputs": [],
   "source": []
  }
 ],
 "metadata": {
  "kernelspec": {
   "display_name": "Python 3 (ipykernel)",
   "language": "python",
   "name": "python3"
  },
  "language_info": {
   "codemirror_mode": {
    "name": "ipython",
    "version": 3
   },
   "file_extension": ".py",
   "mimetype": "text/x-python",
   "name": "python",
   "nbconvert_exporter": "python",
   "pygments_lexer": "ipython3",
   "version": "3.13.2"
  }
 },
 "nbformat": 4,
 "nbformat_minor": 5
}
